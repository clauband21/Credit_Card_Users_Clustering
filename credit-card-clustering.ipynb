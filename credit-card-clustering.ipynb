{
 "cells": [
  {
   "cell_type": "code",
   "execution_count": 1,
   "id": "30cfe452",
   "metadata": {
    "_cell_guid": "b1076dfc-b9ad-4769-8c92-a6c4dae69d19",
    "_uuid": "8f2839f25d086af736a60e9eeb907d3b93b6e0e5",
    "execution": {
     "iopub.execute_input": "2022-06-17T20:35:27.358826Z",
     "iopub.status.busy": "2022-06-17T20:35:27.358260Z",
     "iopub.status.idle": "2022-06-17T20:35:27.373734Z",
     "shell.execute_reply": "2022-06-17T20:35:27.373064Z"
    },
    "papermill": {
     "duration": 0.034467,
     "end_time": "2022-06-17T20:35:27.375952",
     "exception": false,
     "start_time": "2022-06-17T20:35:27.341485",
     "status": "completed"
    },
    "tags": []
   },
   "outputs": [
    {
     "name": "stdout",
     "output_type": "stream",
     "text": [
      "/kaggle/input/ccdata/CC GENERAL.csv\n"
     ]
    }
   ],
   "source": [
    "# This Python 3 environment comes with many helpful analytics libraries installed\n",
    "# It is defined by the kaggle/python Docker image: https://github.com/kaggle/docker-python\n",
    "# For example, here's several helpful packages to load\n",
    "\n",
    "import numpy as np # linear algebra\n",
    "import pandas as pd # data processing, CSV file I/O (e.g. pd.read_csv)\n",
    "\n",
    "# Input data files are available in the read-only \"../input/\" directory\n",
    "# For example, running this (by clicking run or pressing Shift+Enter) will list all files under the input directory\n",
    "\n",
    "import os\n",
    "for dirname, _, filenames in os.walk('/kaggle/input'):\n",
    "    for filename in filenames:\n",
    "        print(os.path.join(dirname, filename))\n",
    "\n",
    "# You can write up to 20GB to the current directory (/kaggle/working/) that gets preserved as output when you create a version using \"Save & Run All\" \n",
    "# You can also write temporary files to /kaggle/temp/, but they won't be saved outside of the current session"
   ]
  },
  {
   "cell_type": "code",
   "execution_count": 2,
   "id": "8753b58b",
   "metadata": {
    "execution": {
     "iopub.execute_input": "2022-06-17T20:35:27.397076Z",
     "iopub.status.busy": "2022-06-17T20:35:27.396495Z",
     "iopub.status.idle": "2022-06-17T20:35:27.462029Z",
     "shell.execute_reply": "2022-06-17T20:35:27.461219Z"
    },
    "papermill": {
     "duration": 0.077959,
     "end_time": "2022-06-17T20:35:27.463773",
     "exception": false,
     "start_time": "2022-06-17T20:35:27.385814",
     "status": "completed"
    },
    "tags": []
   },
   "outputs": [
    {
     "data": {
      "text/html": [
       "<div>\n",
       "<style scoped>\n",
       "    .dataframe tbody tr th:only-of-type {\n",
       "        vertical-align: middle;\n",
       "    }\n",
       "\n",
       "    .dataframe tbody tr th {\n",
       "        vertical-align: top;\n",
       "    }\n",
       "\n",
       "    .dataframe thead th {\n",
       "        text-align: right;\n",
       "    }\n",
       "</style>\n",
       "<table border=\"1\" class=\"dataframe\">\n",
       "  <thead>\n",
       "    <tr style=\"text-align: right;\">\n",
       "      <th></th>\n",
       "      <th>CUST_ID</th>\n",
       "      <th>BALANCE</th>\n",
       "      <th>BALANCE_FREQUENCY</th>\n",
       "      <th>PURCHASES</th>\n",
       "      <th>ONEOFF_PURCHASES</th>\n",
       "      <th>INSTALLMENTS_PURCHASES</th>\n",
       "      <th>CASH_ADVANCE</th>\n",
       "      <th>PURCHASES_FREQUENCY</th>\n",
       "      <th>ONEOFF_PURCHASES_FREQUENCY</th>\n",
       "      <th>PURCHASES_INSTALLMENTS_FREQUENCY</th>\n",
       "      <th>CASH_ADVANCE_FREQUENCY</th>\n",
       "      <th>CASH_ADVANCE_TRX</th>\n",
       "      <th>PURCHASES_TRX</th>\n",
       "      <th>CREDIT_LIMIT</th>\n",
       "      <th>PAYMENTS</th>\n",
       "      <th>MINIMUM_PAYMENTS</th>\n",
       "      <th>PRC_FULL_PAYMENT</th>\n",
       "      <th>TENURE</th>\n",
       "    </tr>\n",
       "  </thead>\n",
       "  <tbody>\n",
       "    <tr>\n",
       "      <th>0</th>\n",
       "      <td>C10001</td>\n",
       "      <td>40.900749</td>\n",
       "      <td>0.818182</td>\n",
       "      <td>95.40</td>\n",
       "      <td>0.00</td>\n",
       "      <td>95.4</td>\n",
       "      <td>0.000000</td>\n",
       "      <td>0.166667</td>\n",
       "      <td>0.000000</td>\n",
       "      <td>0.083333</td>\n",
       "      <td>0.000000</td>\n",
       "      <td>0</td>\n",
       "      <td>2</td>\n",
       "      <td>1000.0</td>\n",
       "      <td>201.802084</td>\n",
       "      <td>139.509787</td>\n",
       "      <td>0.000000</td>\n",
       "      <td>12</td>\n",
       "    </tr>\n",
       "    <tr>\n",
       "      <th>1</th>\n",
       "      <td>C10002</td>\n",
       "      <td>3202.467416</td>\n",
       "      <td>0.909091</td>\n",
       "      <td>0.00</td>\n",
       "      <td>0.00</td>\n",
       "      <td>0.0</td>\n",
       "      <td>6442.945483</td>\n",
       "      <td>0.000000</td>\n",
       "      <td>0.000000</td>\n",
       "      <td>0.000000</td>\n",
       "      <td>0.250000</td>\n",
       "      <td>4</td>\n",
       "      <td>0</td>\n",
       "      <td>7000.0</td>\n",
       "      <td>4103.032597</td>\n",
       "      <td>1072.340217</td>\n",
       "      <td>0.222222</td>\n",
       "      <td>12</td>\n",
       "    </tr>\n",
       "    <tr>\n",
       "      <th>2</th>\n",
       "      <td>C10003</td>\n",
       "      <td>2495.148862</td>\n",
       "      <td>1.000000</td>\n",
       "      <td>773.17</td>\n",
       "      <td>773.17</td>\n",
       "      <td>0.0</td>\n",
       "      <td>0.000000</td>\n",
       "      <td>1.000000</td>\n",
       "      <td>1.000000</td>\n",
       "      <td>0.000000</td>\n",
       "      <td>0.000000</td>\n",
       "      <td>0</td>\n",
       "      <td>12</td>\n",
       "      <td>7500.0</td>\n",
       "      <td>622.066742</td>\n",
       "      <td>627.284787</td>\n",
       "      <td>0.000000</td>\n",
       "      <td>12</td>\n",
       "    </tr>\n",
       "    <tr>\n",
       "      <th>3</th>\n",
       "      <td>C10004</td>\n",
       "      <td>1666.670542</td>\n",
       "      <td>0.636364</td>\n",
       "      <td>1499.00</td>\n",
       "      <td>1499.00</td>\n",
       "      <td>0.0</td>\n",
       "      <td>205.788017</td>\n",
       "      <td>0.083333</td>\n",
       "      <td>0.083333</td>\n",
       "      <td>0.000000</td>\n",
       "      <td>0.083333</td>\n",
       "      <td>1</td>\n",
       "      <td>1</td>\n",
       "      <td>7500.0</td>\n",
       "      <td>0.000000</td>\n",
       "      <td>NaN</td>\n",
       "      <td>0.000000</td>\n",
       "      <td>12</td>\n",
       "    </tr>\n",
       "    <tr>\n",
       "      <th>4</th>\n",
       "      <td>C10005</td>\n",
       "      <td>817.714335</td>\n",
       "      <td>1.000000</td>\n",
       "      <td>16.00</td>\n",
       "      <td>16.00</td>\n",
       "      <td>0.0</td>\n",
       "      <td>0.000000</td>\n",
       "      <td>0.083333</td>\n",
       "      <td>0.083333</td>\n",
       "      <td>0.000000</td>\n",
       "      <td>0.000000</td>\n",
       "      <td>0</td>\n",
       "      <td>1</td>\n",
       "      <td>1200.0</td>\n",
       "      <td>678.334763</td>\n",
       "      <td>244.791237</td>\n",
       "      <td>0.000000</td>\n",
       "      <td>12</td>\n",
       "    </tr>\n",
       "  </tbody>\n",
       "</table>\n",
       "</div>"
      ],
      "text/plain": [
       "  CUST_ID      BALANCE  BALANCE_FREQUENCY  PURCHASES  ONEOFF_PURCHASES  \\\n",
       "0  C10001    40.900749           0.818182      95.40              0.00   \n",
       "1  C10002  3202.467416           0.909091       0.00              0.00   \n",
       "2  C10003  2495.148862           1.000000     773.17            773.17   \n",
       "3  C10004  1666.670542           0.636364    1499.00           1499.00   \n",
       "4  C10005   817.714335           1.000000      16.00             16.00   \n",
       "\n",
       "   INSTALLMENTS_PURCHASES  CASH_ADVANCE  PURCHASES_FREQUENCY  \\\n",
       "0                    95.4      0.000000             0.166667   \n",
       "1                     0.0   6442.945483             0.000000   \n",
       "2                     0.0      0.000000             1.000000   \n",
       "3                     0.0    205.788017             0.083333   \n",
       "4                     0.0      0.000000             0.083333   \n",
       "\n",
       "   ONEOFF_PURCHASES_FREQUENCY  PURCHASES_INSTALLMENTS_FREQUENCY  \\\n",
       "0                    0.000000                          0.083333   \n",
       "1                    0.000000                          0.000000   \n",
       "2                    1.000000                          0.000000   \n",
       "3                    0.083333                          0.000000   \n",
       "4                    0.083333                          0.000000   \n",
       "\n",
       "   CASH_ADVANCE_FREQUENCY  CASH_ADVANCE_TRX  PURCHASES_TRX  CREDIT_LIMIT  \\\n",
       "0                0.000000                 0              2        1000.0   \n",
       "1                0.250000                 4              0        7000.0   \n",
       "2                0.000000                 0             12        7500.0   \n",
       "3                0.083333                 1              1        7500.0   \n",
       "4                0.000000                 0              1        1200.0   \n",
       "\n",
       "      PAYMENTS  MINIMUM_PAYMENTS  PRC_FULL_PAYMENT  TENURE  \n",
       "0   201.802084        139.509787          0.000000      12  \n",
       "1  4103.032597       1072.340217          0.222222      12  \n",
       "2   622.066742        627.284787          0.000000      12  \n",
       "3     0.000000               NaN          0.000000      12  \n",
       "4   678.334763        244.791237          0.000000      12  "
      ]
     },
     "execution_count": 2,
     "metadata": {},
     "output_type": "execute_result"
    }
   ],
   "source": [
    "import pandas as pd\n",
    "\n",
    "df = pd.read_csv(\"/kaggle/input/ccdata/CC GENERAL.csv\")\n",
    "df.head()"
   ]
  },
  {
   "cell_type": "code",
   "execution_count": 3,
   "id": "0745aed9",
   "metadata": {
    "execution": {
     "iopub.execute_input": "2022-06-17T20:35:27.476937Z",
     "iopub.status.busy": "2022-06-17T20:35:27.476455Z",
     "iopub.status.idle": "2022-06-17T20:35:27.501953Z",
     "shell.execute_reply": "2022-06-17T20:35:27.500000Z"
    },
    "papermill": {
     "duration": 0.034165,
     "end_time": "2022-06-17T20:35:27.504055",
     "exception": false,
     "start_time": "2022-06-17T20:35:27.469890",
     "status": "completed"
    },
    "tags": []
   },
   "outputs": [
    {
     "name": "stdout",
     "output_type": "stream",
     "text": [
      "<class 'pandas.core.frame.DataFrame'>\n",
      "RangeIndex: 8950 entries, 0 to 8949\n",
      "Data columns (total 16 columns):\n",
      " #   Column                            Non-Null Count  Dtype  \n",
      "---  ------                            --------------  -----  \n",
      " 0   BALANCE                           8950 non-null   float64\n",
      " 1   BALANCE_FREQUENCY                 8950 non-null   float64\n",
      " 2   PURCHASES                         8950 non-null   float64\n",
      " 3   ONEOFF_PURCHASES                  8950 non-null   float64\n",
      " 4   INSTALLMENTS_PURCHASES            8950 non-null   float64\n",
      " 5   CASH_ADVANCE                      8950 non-null   float64\n",
      " 6   PURCHASES_FREQUENCY               8950 non-null   float64\n",
      " 7   ONEOFF_PURCHASES_FREQUENCY        8950 non-null   float64\n",
      " 8   PURCHASES_INSTALLMENTS_FREQUENCY  8950 non-null   float64\n",
      " 9   CASH_ADVANCE_FREQUENCY            8950 non-null   float64\n",
      " 10  CASH_ADVANCE_TRX                  8950 non-null   int64  \n",
      " 11  PURCHASES_TRX                     8950 non-null   int64  \n",
      " 12  CREDIT_LIMIT                      8949 non-null   float64\n",
      " 13  PAYMENTS                          8950 non-null   float64\n",
      " 14  MINIMUM_PAYMENTS                  8637 non-null   float64\n",
      " 15  PRC_FULL_PAYMENT                  8950 non-null   float64\n",
      "dtypes: float64(14), int64(2)\n",
      "memory usage: 1.1 MB\n"
     ]
    }
   ],
   "source": [
    "# We will drop some columns that are not interesting to this analysis\n",
    "# \"CUST_ID\" : will be not usefull to group customers by their indentification\n",
    "# \"TENURE\" :  is 12 for all lines, therefore not usefull to the analysis\n",
    "\n",
    "df.drop(columns = ['CUST_ID', 'TENURE'], inplace = True)\n",
    "df.info()"
   ]
  },
  {
   "cell_type": "code",
   "execution_count": 4,
   "id": "bedeca5a",
   "metadata": {
    "execution": {
     "iopub.execute_input": "2022-06-17T20:35:27.518570Z",
     "iopub.status.busy": "2022-06-17T20:35:27.518196Z",
     "iopub.status.idle": "2022-06-17T20:35:27.524238Z",
     "shell.execute_reply": "2022-06-17T20:35:27.523404Z"
    },
    "papermill": {
     "duration": 0.015303,
     "end_time": "2022-06-17T20:35:27.526003",
     "exception": false,
     "start_time": "2022-06-17T20:35:27.510700",
     "status": "completed"
    },
    "tags": []
   },
   "outputs": [
    {
     "name": "stdout",
     "output_type": "stream",
     "text": [
      "BALANCE                               0\n",
      "BALANCE_FREQUENCY                     0\n",
      "PURCHASES                             0\n",
      "ONEOFF_PURCHASES                      0\n",
      "INSTALLMENTS_PURCHASES                0\n",
      "CASH_ADVANCE                          0\n",
      "PURCHASES_FREQUENCY                   0\n",
      "ONEOFF_PURCHASES_FREQUENCY            0\n",
      "PURCHASES_INSTALLMENTS_FREQUENCY      0\n",
      "CASH_ADVANCE_FREQUENCY                0\n",
      "CASH_ADVANCE_TRX                      0\n",
      "PURCHASES_TRX                         0\n",
      "CREDIT_LIMIT                          1\n",
      "PAYMENTS                              0\n",
      "MINIMUM_PAYMENTS                    313\n",
      "PRC_FULL_PAYMENT                      0\n",
      "dtype: int64\n"
     ]
    }
   ],
   "source": [
    "# Treating missing values\n",
    "\n",
    "missing = df.isna().sum()\n",
    "print(missing)"
   ]
  },
  {
   "cell_type": "code",
   "execution_count": 5,
   "id": "927978a8",
   "metadata": {
    "execution": {
     "iopub.execute_input": "2022-06-17T20:35:27.540634Z",
     "iopub.status.busy": "2022-06-17T20:35:27.540267Z",
     "iopub.status.idle": "2022-06-17T20:35:27.550288Z",
     "shell.execute_reply": "2022-06-17T20:35:27.549375Z"
    },
    "papermill": {
     "duration": 0.019474,
     "end_time": "2022-06-17T20:35:27.551938",
     "exception": false,
     "start_time": "2022-06-17T20:35:27.532464",
     "status": "completed"
    },
    "tags": []
   },
   "outputs": [
    {
     "name": "stdout",
     "output_type": "stream",
     "text": [
      "BALANCE                             0\n",
      "BALANCE_FREQUENCY                   0\n",
      "PURCHASES                           0\n",
      "ONEOFF_PURCHASES                    0\n",
      "INSTALLMENTS_PURCHASES              0\n",
      "CASH_ADVANCE                        0\n",
      "PURCHASES_FREQUENCY                 0\n",
      "ONEOFF_PURCHASES_FREQUENCY          0\n",
      "PURCHASES_INSTALLMENTS_FREQUENCY    0\n",
      "CASH_ADVANCE_FREQUENCY              0\n",
      "CASH_ADVANCE_TRX                    0\n",
      "PURCHASES_TRX                       0\n",
      "CREDIT_LIMIT                        0\n",
      "PAYMENTS                            0\n",
      "MINIMUM_PAYMENTS                    0\n",
      "PRC_FULL_PAYMENT                    0\n",
      "dtype: int64\n"
     ]
    }
   ],
   "source": [
    "#  \"MINIMUM_PAYMENTS\" : there are 313 missinv values out of 8950 lines. Let's replace the missing values with the average of all non-null values\n",
    "\n",
    "df.fillna(df.mean(), inplace = True)\n",
    "missing = df.isna().sum()\n",
    "print(missing)"
   ]
  },
  {
   "cell_type": "code",
   "execution_count": 6,
   "id": "e65b7099",
   "metadata": {
    "execution": {
     "iopub.execute_input": "2022-06-17T20:35:27.565804Z",
     "iopub.status.busy": "2022-06-17T20:35:27.565400Z",
     "iopub.status.idle": "2022-06-17T20:35:27.636674Z",
     "shell.execute_reply": "2022-06-17T20:35:27.635319Z"
    },
    "papermill": {
     "duration": 0.080441,
     "end_time": "2022-06-17T20:35:27.638740",
     "exception": false,
     "start_time": "2022-06-17T20:35:27.558299",
     "status": "completed"
    },
    "tags": []
   },
   "outputs": [
    {
     "data": {
      "text/html": [
       "<div>\n",
       "<style scoped>\n",
       "    .dataframe tbody tr th:only-of-type {\n",
       "        vertical-align: middle;\n",
       "    }\n",
       "\n",
       "    .dataframe tbody tr th {\n",
       "        vertical-align: top;\n",
       "    }\n",
       "\n",
       "    .dataframe thead th {\n",
       "        text-align: right;\n",
       "    }\n",
       "</style>\n",
       "<table border=\"1\" class=\"dataframe\">\n",
       "  <thead>\n",
       "    <tr style=\"text-align: right;\">\n",
       "      <th></th>\n",
       "      <th>BALANCE</th>\n",
       "      <th>BALANCE_FREQUENCY</th>\n",
       "      <th>PURCHASES</th>\n",
       "      <th>ONEOFF_PURCHASES</th>\n",
       "      <th>INSTALLMENTS_PURCHASES</th>\n",
       "      <th>CASH_ADVANCE</th>\n",
       "      <th>PURCHASES_FREQUENCY</th>\n",
       "      <th>ONEOFF_PURCHASES_FREQUENCY</th>\n",
       "      <th>PURCHASES_INSTALLMENTS_FREQUENCY</th>\n",
       "      <th>CASH_ADVANCE_FREQUENCY</th>\n",
       "      <th>CASH_ADVANCE_TRX</th>\n",
       "      <th>PURCHASES_TRX</th>\n",
       "      <th>CREDIT_LIMIT</th>\n",
       "      <th>PAYMENTS</th>\n",
       "      <th>MINIMUM_PAYMENTS</th>\n",
       "      <th>PRC_FULL_PAYMENT</th>\n",
       "    </tr>\n",
       "  </thead>\n",
       "  <tbody>\n",
       "    <tr>\n",
       "      <th>count</th>\n",
       "      <td>8950.000000</td>\n",
       "      <td>8950.000000</td>\n",
       "      <td>8950.000000</td>\n",
       "      <td>8950.000000</td>\n",
       "      <td>8950.000000</td>\n",
       "      <td>8950.000000</td>\n",
       "      <td>8950.000000</td>\n",
       "      <td>8950.000000</td>\n",
       "      <td>8950.000000</td>\n",
       "      <td>8950.000000</td>\n",
       "      <td>8950.000000</td>\n",
       "      <td>8950.000000</td>\n",
       "      <td>8950.000000</td>\n",
       "      <td>8950.000000</td>\n",
       "      <td>8950.000000</td>\n",
       "      <td>8950.000000</td>\n",
       "    </tr>\n",
       "    <tr>\n",
       "      <th>mean</th>\n",
       "      <td>1564.474828</td>\n",
       "      <td>0.877271</td>\n",
       "      <td>1003.204834</td>\n",
       "      <td>592.437371</td>\n",
       "      <td>411.067645</td>\n",
       "      <td>978.871112</td>\n",
       "      <td>0.490351</td>\n",
       "      <td>0.202458</td>\n",
       "      <td>0.364437</td>\n",
       "      <td>0.135144</td>\n",
       "      <td>3.248827</td>\n",
       "      <td>14.709832</td>\n",
       "      <td>4494.449450</td>\n",
       "      <td>1733.143852</td>\n",
       "      <td>864.206542</td>\n",
       "      <td>0.153715</td>\n",
       "    </tr>\n",
       "    <tr>\n",
       "      <th>std</th>\n",
       "      <td>2081.531879</td>\n",
       "      <td>0.236904</td>\n",
       "      <td>2136.634782</td>\n",
       "      <td>1659.887917</td>\n",
       "      <td>904.338115</td>\n",
       "      <td>2097.163877</td>\n",
       "      <td>0.401371</td>\n",
       "      <td>0.298336</td>\n",
       "      <td>0.397448</td>\n",
       "      <td>0.200121</td>\n",
       "      <td>6.824647</td>\n",
       "      <td>24.857649</td>\n",
       "      <td>3638.612411</td>\n",
       "      <td>2895.063757</td>\n",
       "      <td>2330.588021</td>\n",
       "      <td>0.292499</td>\n",
       "    </tr>\n",
       "    <tr>\n",
       "      <th>min</th>\n",
       "      <td>0.000000</td>\n",
       "      <td>0.000000</td>\n",
       "      <td>0.000000</td>\n",
       "      <td>0.000000</td>\n",
       "      <td>0.000000</td>\n",
       "      <td>0.000000</td>\n",
       "      <td>0.000000</td>\n",
       "      <td>0.000000</td>\n",
       "      <td>0.000000</td>\n",
       "      <td>0.000000</td>\n",
       "      <td>0.000000</td>\n",
       "      <td>0.000000</td>\n",
       "      <td>50.000000</td>\n",
       "      <td>0.000000</td>\n",
       "      <td>0.019163</td>\n",
       "      <td>0.000000</td>\n",
       "    </tr>\n",
       "    <tr>\n",
       "      <th>25%</th>\n",
       "      <td>128.281915</td>\n",
       "      <td>0.888889</td>\n",
       "      <td>39.635000</td>\n",
       "      <td>0.000000</td>\n",
       "      <td>0.000000</td>\n",
       "      <td>0.000000</td>\n",
       "      <td>0.083333</td>\n",
       "      <td>0.000000</td>\n",
       "      <td>0.000000</td>\n",
       "      <td>0.000000</td>\n",
       "      <td>0.000000</td>\n",
       "      <td>1.000000</td>\n",
       "      <td>1600.000000</td>\n",
       "      <td>383.276166</td>\n",
       "      <td>170.857654</td>\n",
       "      <td>0.000000</td>\n",
       "    </tr>\n",
       "    <tr>\n",
       "      <th>50%</th>\n",
       "      <td>873.385231</td>\n",
       "      <td>1.000000</td>\n",
       "      <td>361.280000</td>\n",
       "      <td>38.000000</td>\n",
       "      <td>89.000000</td>\n",
       "      <td>0.000000</td>\n",
       "      <td>0.500000</td>\n",
       "      <td>0.083333</td>\n",
       "      <td>0.166667</td>\n",
       "      <td>0.000000</td>\n",
       "      <td>0.000000</td>\n",
       "      <td>7.000000</td>\n",
       "      <td>3000.000000</td>\n",
       "      <td>856.901546</td>\n",
       "      <td>335.628312</td>\n",
       "      <td>0.000000</td>\n",
       "    </tr>\n",
       "    <tr>\n",
       "      <th>75%</th>\n",
       "      <td>2054.140036</td>\n",
       "      <td>1.000000</td>\n",
       "      <td>1110.130000</td>\n",
       "      <td>577.405000</td>\n",
       "      <td>468.637500</td>\n",
       "      <td>1113.821139</td>\n",
       "      <td>0.916667</td>\n",
       "      <td>0.300000</td>\n",
       "      <td>0.750000</td>\n",
       "      <td>0.222222</td>\n",
       "      <td>4.000000</td>\n",
       "      <td>17.000000</td>\n",
       "      <td>6500.000000</td>\n",
       "      <td>1901.134317</td>\n",
       "      <td>864.206542</td>\n",
       "      <td>0.142857</td>\n",
       "    </tr>\n",
       "    <tr>\n",
       "      <th>max</th>\n",
       "      <td>19043.138560</td>\n",
       "      <td>1.000000</td>\n",
       "      <td>49039.570000</td>\n",
       "      <td>40761.250000</td>\n",
       "      <td>22500.000000</td>\n",
       "      <td>47137.211760</td>\n",
       "      <td>1.000000</td>\n",
       "      <td>1.000000</td>\n",
       "      <td>1.000000</td>\n",
       "      <td>1.500000</td>\n",
       "      <td>123.000000</td>\n",
       "      <td>358.000000</td>\n",
       "      <td>30000.000000</td>\n",
       "      <td>50721.483360</td>\n",
       "      <td>76406.207520</td>\n",
       "      <td>1.000000</td>\n",
       "    </tr>\n",
       "  </tbody>\n",
       "</table>\n",
       "</div>"
      ],
      "text/plain": [
       "            BALANCE  BALANCE_FREQUENCY     PURCHASES  ONEOFF_PURCHASES  \\\n",
       "count   8950.000000        8950.000000   8950.000000       8950.000000   \n",
       "mean    1564.474828           0.877271   1003.204834        592.437371   \n",
       "std     2081.531879           0.236904   2136.634782       1659.887917   \n",
       "min        0.000000           0.000000      0.000000          0.000000   \n",
       "25%      128.281915           0.888889     39.635000          0.000000   \n",
       "50%      873.385231           1.000000    361.280000         38.000000   \n",
       "75%     2054.140036           1.000000   1110.130000        577.405000   \n",
       "max    19043.138560           1.000000  49039.570000      40761.250000   \n",
       "\n",
       "       INSTALLMENTS_PURCHASES  CASH_ADVANCE  PURCHASES_FREQUENCY  \\\n",
       "count             8950.000000   8950.000000          8950.000000   \n",
       "mean               411.067645    978.871112             0.490351   \n",
       "std                904.338115   2097.163877             0.401371   \n",
       "min                  0.000000      0.000000             0.000000   \n",
       "25%                  0.000000      0.000000             0.083333   \n",
       "50%                 89.000000      0.000000             0.500000   \n",
       "75%                468.637500   1113.821139             0.916667   \n",
       "max              22500.000000  47137.211760             1.000000   \n",
       "\n",
       "       ONEOFF_PURCHASES_FREQUENCY  PURCHASES_INSTALLMENTS_FREQUENCY  \\\n",
       "count                 8950.000000                       8950.000000   \n",
       "mean                     0.202458                          0.364437   \n",
       "std                      0.298336                          0.397448   \n",
       "min                      0.000000                          0.000000   \n",
       "25%                      0.000000                          0.000000   \n",
       "50%                      0.083333                          0.166667   \n",
       "75%                      0.300000                          0.750000   \n",
       "max                      1.000000                          1.000000   \n",
       "\n",
       "       CASH_ADVANCE_FREQUENCY  CASH_ADVANCE_TRX  PURCHASES_TRX  CREDIT_LIMIT  \\\n",
       "count             8950.000000       8950.000000    8950.000000   8950.000000   \n",
       "mean                 0.135144          3.248827      14.709832   4494.449450   \n",
       "std                  0.200121          6.824647      24.857649   3638.612411   \n",
       "min                  0.000000          0.000000       0.000000     50.000000   \n",
       "25%                  0.000000          0.000000       1.000000   1600.000000   \n",
       "50%                  0.000000          0.000000       7.000000   3000.000000   \n",
       "75%                  0.222222          4.000000      17.000000   6500.000000   \n",
       "max                  1.500000        123.000000     358.000000  30000.000000   \n",
       "\n",
       "           PAYMENTS  MINIMUM_PAYMENTS  PRC_FULL_PAYMENT  \n",
       "count   8950.000000       8950.000000       8950.000000  \n",
       "mean    1733.143852        864.206542          0.153715  \n",
       "std     2895.063757       2330.588021          0.292499  \n",
       "min        0.000000          0.019163          0.000000  \n",
       "25%      383.276166        170.857654          0.000000  \n",
       "50%      856.901546        335.628312          0.000000  \n",
       "75%     1901.134317        864.206542          0.142857  \n",
       "max    50721.483360      76406.207520          1.000000  "
      ]
     },
     "execution_count": 6,
     "metadata": {},
     "output_type": "execute_result"
    }
   ],
   "source": [
    "df.describe()"
   ]
  },
  {
   "cell_type": "code",
   "execution_count": 7,
   "id": "7ce206c3",
   "metadata": {
    "execution": {
     "iopub.execute_input": "2022-06-17T20:35:27.654202Z",
     "iopub.status.busy": "2022-06-17T20:35:27.653245Z",
     "iopub.status.idle": "2022-06-17T20:35:28.776745Z",
     "shell.execute_reply": "2022-06-17T20:35:28.775577Z"
    },
    "papermill": {
     "duration": 1.132945,
     "end_time": "2022-06-17T20:35:28.778488",
     "exception": false,
     "start_time": "2022-06-17T20:35:27.645543",
     "status": "completed"
    },
    "tags": []
   },
   "outputs": [
    {
     "name": "stdout",
     "output_type": "stream",
     "text": [
      "[[3.93555441e-02 7.87271593e-04 9.17958473e-02 ... 1.94178127e-01\n",
      "  1.34239194e-01 0.00000000e+00]\n",
      " [2.93875903e-01 8.34231560e-05 0.00000000e+00 ... 3.76516684e-01\n",
      "  9.84037959e-02 2.03923046e-05]\n",
      " [3.10798149e-01 1.24560965e-04 9.63068011e-02 ... 7.74852335e-02\n",
      "  7.81351982e-02 0.00000000e+00]\n",
      " ...\n",
      " [2.27733092e-02 8.11060955e-04 1.40540698e-01 ... 7.90986945e-02\n",
      "  8.02156174e-02 2.43318384e-04]\n",
      " [2.65257948e-02 1.64255731e-03 0.00000000e+00 ... 1.03579625e-01\n",
      "  1.09898221e-01 4.92767391e-04]\n",
      " [1.86406219e-01 3.33426837e-04 5.46778061e-01 ... 3.15915455e-02\n",
      "  4.41568390e-02 0.00000000e+00]]\n"
     ]
    }
   ],
   "source": [
    "# Normalizing the features\n",
    "\n",
    "from sklearn.preprocessing import Normalizer\n",
    "\n",
    "values = Normalizer().fit_transform(df.values)\n",
    "print(values)"
   ]
  },
  {
   "cell_type": "code",
   "execution_count": 8,
   "id": "11b4ef3c",
   "metadata": {
    "execution": {
     "iopub.execute_input": "2022-06-17T20:35:28.804705Z",
     "iopub.status.busy": "2022-06-17T20:35:28.804237Z",
     "iopub.status.idle": "2022-06-17T20:35:30.545564Z",
     "shell.execute_reply": "2022-06-17T20:35:30.544852Z"
    },
    "papermill": {
     "duration": 1.755671,
     "end_time": "2022-06-17T20:35:30.547844",
     "exception": false,
     "start_time": "2022-06-17T20:35:28.792173",
     "status": "completed"
    },
    "tags": []
   },
   "outputs": [],
   "source": [
    "# Executing clustering\n",
    "\n",
    "from sklearn.cluster import KMeans\n",
    "\n",
    "kmeans = KMeans(n_clusters = 5, n_init = 10, max_iter = 300)\n",
    "y_pred = kmeans.fit_predict(values)"
   ]
  },
  {
   "cell_type": "code",
   "execution_count": 9,
   "id": "73ddffbf",
   "metadata": {
    "execution": {
     "iopub.execute_input": "2022-06-17T20:35:30.564184Z",
     "iopub.status.busy": "2022-06-17T20:35:30.563751Z",
     "iopub.status.idle": "2022-06-17T20:35:31.443999Z",
     "shell.execute_reply": "2022-06-17T20:35:31.443075Z"
    },
    "papermill": {
     "duration": 0.890193,
     "end_time": "2022-06-17T20:35:31.445876",
     "exception": false,
     "start_time": "2022-06-17T20:35:30.555683",
     "status": "completed"
    },
    "tags": []
   },
   "outputs": [
    {
     "name": "stdout",
     "output_type": "stream",
     "text": [
      "0.3598221281407734\n"
     ]
    }
   ],
   "source": [
    "# Calculating the silhouette coefficient\n",
    "\n",
    "from sklearn import metrics\n",
    "\n",
    "labels = kmeans.labels_\n",
    "silhouette = metrics.silhouette_score(values, labels, metric = \"euclidean\")\n",
    "print(silhouette)"
   ]
  },
  {
   "cell_type": "code",
   "execution_count": 10,
   "id": "1cc8588f",
   "metadata": {
    "execution": {
     "iopub.execute_input": "2022-06-17T20:35:31.462248Z",
     "iopub.status.busy": "2022-06-17T20:35:31.461424Z",
     "iopub.status.idle": "2022-06-17T20:35:31.481705Z",
     "shell.execute_reply": "2022-06-17T20:35:31.480613Z"
    },
    "papermill": {
     "duration": 0.030098,
     "end_time": "2022-06-17T20:35:31.483582",
     "exception": false,
     "start_time": "2022-06-17T20:35:31.453484",
     "status": "completed"
    },
    "tags": []
   },
   "outputs": [
    {
     "name": "stdout",
     "output_type": "stream",
     "text": [
      "1.0825323077143267\n"
     ]
    }
   ],
   "source": [
    "# Calculating Davies Bouldin\n",
    "\n",
    "dbs = metrics.davies_bouldin_score(values, labels)\n",
    "print(dbs)"
   ]
  },
  {
   "cell_type": "code",
   "execution_count": 11,
   "id": "0caf8717",
   "metadata": {
    "execution": {
     "iopub.execute_input": "2022-06-17T20:35:31.514058Z",
     "iopub.status.busy": "2022-06-17T20:35:31.513511Z",
     "iopub.status.idle": "2022-06-17T20:35:31.522207Z",
     "shell.execute_reply": "2022-06-17T20:35:31.521062Z"
    },
    "papermill": {
     "duration": 0.029506,
     "end_time": "2022-06-17T20:35:31.524069",
     "exception": false,
     "start_time": "2022-06-17T20:35:31.494563",
     "status": "completed"
    },
    "tags": []
   },
   "outputs": [
    {
     "name": "stdout",
     "output_type": "stream",
     "text": [
      "3368.0328901744633\n"
     ]
    }
   ],
   "source": [
    "# Calculating Calinski\n",
    "\n",
    "calinski = metrics.calinski_harabasz_score(values, labels)\n",
    "print(calinski)"
   ]
  },
  {
   "cell_type": "code",
   "execution_count": 12,
   "id": "8bd5533a",
   "metadata": {
    "execution": {
     "iopub.execute_input": "2022-06-17T20:35:31.553829Z",
     "iopub.status.busy": "2022-06-17T20:35:31.553379Z",
     "iopub.status.idle": "2022-06-17T20:35:31.559883Z",
     "shell.execute_reply": "2022-06-17T20:35:31.559198Z"
    },
    "papermill": {
     "duration": 0.022548,
     "end_time": "2022-06-17T20:35:31.562234",
     "exception": false,
     "start_time": "2022-06-17T20:35:31.539686",
     "status": "completed"
    },
    "tags": []
   },
   "outputs": [],
   "source": [
    "# Clusters validation\n",
    "\n",
    "def clustering_algorithm(n_clusters, dataset):\n",
    "    kmeans = KMeans(n_clusters=n_clusters, n_init=10, max_iter=300)\n",
    "    labels = kmeans.fit_predict(dataset)\n",
    "    s = metrics.silhouette_score(dataset, labels, metric='euclidean')\n",
    "    dbs = metrics.davies_bouldin_score(dataset, labels)\n",
    "    calinski = metrics.calinski_harabasz_score(dataset, labels)\n",
    "    return s, dbs, calinski\n"
   ]
  },
  {
   "cell_type": "code",
   "execution_count": 13,
   "id": "a0c07044",
   "metadata": {
    "execution": {
     "iopub.execute_input": "2022-06-17T20:35:31.597247Z",
     "iopub.status.busy": "2022-06-17T20:35:31.596804Z",
     "iopub.status.idle": "2022-06-17T20:35:33.883920Z",
     "shell.execute_reply": "2022-06-17T20:35:33.883135Z"
    },
    "papermill": {
     "duration": 2.309011,
     "end_time": "2022-06-17T20:35:33.886165",
     "exception": false,
     "start_time": "2022-06-17T20:35:31.577154",
     "status": "completed"
    },
    "tags": []
   },
   "outputs": [
    {
     "name": "stdout",
     "output_type": "stream",
     "text": [
      "0.32247196740108697 1.3153263391513053 3449.798321471646\n"
     ]
    }
   ],
   "source": [
    "s1, dbs1, calinski1 = clustering_algorithm(3, values)\n",
    "print(s1, dbs1, calinski1)"
   ]
  },
  {
   "cell_type": "code",
   "execution_count": 14,
   "id": "44837209",
   "metadata": {
    "execution": {
     "iopub.execute_input": "2022-06-17T20:35:33.906455Z",
     "iopub.status.busy": "2022-06-17T20:35:33.905963Z",
     "iopub.status.idle": "2022-06-17T20:35:36.266990Z",
     "shell.execute_reply": "2022-06-17T20:35:36.266204Z"
    },
    "papermill": {
     "duration": 2.3733,
     "end_time": "2022-06-17T20:35:36.269005",
     "exception": false,
     "start_time": "2022-06-17T20:35:33.895705",
     "status": "completed"
    },
    "tags": []
   },
   "outputs": [
    {
     "name": "stdout",
     "output_type": "stream",
     "text": [
      "0.3598819793429354 1.0820046889240587 3368.012868528942\n"
     ]
    }
   ],
   "source": [
    "s2, dbs2, calinski2 = clustering_algorithm(5, values)\n",
    "print(s2, dbs2, calinski2)"
   ]
  },
  {
   "cell_type": "code",
   "execution_count": 15,
   "id": "9f82750e",
   "metadata": {
    "execution": {
     "iopub.execute_input": "2022-06-17T20:35:36.289678Z",
     "iopub.status.busy": "2022-06-17T20:35:36.289169Z",
     "iopub.status.idle": "2022-06-17T20:35:55.099981Z",
     "shell.execute_reply": "2022-06-17T20:35:55.097707Z"
    },
    "papermill": {
     "duration": 18.824832,
     "end_time": "2022-06-17T20:35:55.103238",
     "exception": false,
     "start_time": "2022-06-17T20:35:36.278406",
     "status": "completed"
    },
    "tags": []
   },
   "outputs": [
    {
     "name": "stdout",
     "output_type": "stream",
     "text": [
      "0.21661409261581818 1.2672007982906957 1145.1548743572077\n"
     ]
    }
   ],
   "source": [
    "s3, dbs3, calinski3 = clustering_algorithm(100, values)\n",
    "print(s3, dbs3, calinski3)"
   ]
  },
  {
   "cell_type": "code",
   "execution_count": 16,
   "id": "3bff4f03",
   "metadata": {
    "execution": {
     "iopub.execute_input": "2022-06-17T20:35:55.132018Z",
     "iopub.status.busy": "2022-06-17T20:35:55.131171Z",
     "iopub.status.idle": "2022-06-17T20:35:58.172548Z",
     "shell.execute_reply": "2022-06-17T20:35:58.170385Z"
    },
    "papermill": {
     "duration": 3.059085,
     "end_time": "2022-06-17T20:35:58.176144",
     "exception": false,
     "start_time": "2022-06-17T20:35:55.117059",
     "status": "completed"
    },
    "tags": []
   },
   "outputs": [
    {
     "name": "stdout",
     "output_type": "stream",
     "text": [
      "0.04024522468071251 3.47215999066585 307.20764480854046\n",
      "0.3598819793429354 1.0820046889240587 3368.012868528942\n"
     ]
    }
   ],
   "source": [
    "# Testing with a random sample of the data\n",
    "\n",
    "random_data = np.random.rand(8950, 16)\n",
    "s, dbs, calinski = clustering_algorithm(5, random_data)\n",
    "print(s, dbs, calinski)\n",
    "print(s2, dbs2, calinski2)"
   ]
  },
  {
   "cell_type": "code",
   "execution_count": 17,
   "id": "5bcd37c8",
   "metadata": {
    "execution": {
     "iopub.execute_input": "2022-06-17T20:35:58.205361Z",
     "iopub.status.busy": "2022-06-17T20:35:58.204597Z",
     "iopub.status.idle": "2022-06-17T20:35:58.209904Z",
     "shell.execute_reply": "2022-06-17T20:35:58.209270Z"
    },
    "papermill": {
     "duration": 0.023301,
     "end_time": "2022-06-17T20:35:58.213324",
     "exception": false,
     "start_time": "2022-06-17T20:35:58.190023",
     "status": "completed"
    },
    "tags": []
   },
   "outputs": [
    {
     "name": "stdout",
     "output_type": "stream",
     "text": [
      "0.32247196740108697 1.3153263391513053 3449.798321471646\n",
      "0.3598819793429354 1.0820046889240587 3368.012868528942\n",
      "0.21661409261581818 1.2672007982906957 1145.1548743572077\n"
     ]
    }
   ],
   "source": [
    "print(s1, dbs1, calinski1)\n",
    "print(s2, dbs2, calinski2)\n",
    "print(s3, dbs3, calinski3)"
   ]
  },
  {
   "cell_type": "code",
   "execution_count": 18,
   "id": "cede0d69",
   "metadata": {
    "execution": {
     "iopub.execute_input": "2022-06-17T20:35:58.242808Z",
     "iopub.status.busy": "2022-06-17T20:35:58.242379Z",
     "iopub.status.idle": "2022-06-17T20:36:02.731593Z",
     "shell.execute_reply": "2022-06-17T20:36:02.729845Z"
    },
    "papermill": {
     "duration": 4.505881,
     "end_time": "2022-06-17T20:36:02.733828",
     "exception": false,
     "start_time": "2022-06-17T20:35:58.227947",
     "status": "completed"
    },
    "tags": []
   },
   "outputs": [
    {
     "name": "stdout",
     "output_type": "stream",
     "text": [
      "0.3656306305676184 1.0656602783374391 1186.1450696818742\n",
      "0.35006116968849854 1.1444164908164267 1173.5985467804092\n",
      "0.36026554194417126 1.108109534158988 1139.9710438287696\n"
     ]
    }
   ],
   "source": [
    "# Cluster stability\n",
    "\n",
    "set1, set2, set3 = np.array_split(values, 3)\n",
    "s1, dbs1, calinski1 = clustering_algorithm(5, set1)\n",
    "s2, dbs2, calinski2 = clustering_algorithm(5, set2)\n",
    "s3, dbs3, calinski3 = clustering_algorithm(5, set3)\n",
    "print(s1, dbs1, calinski1)\n",
    "print(s2, dbs2, calinski2)\n",
    "print(s3, dbs3, calinski3)"
   ]
  },
  {
   "cell_type": "code",
   "execution_count": 19,
   "id": "8efc69cb",
   "metadata": {
    "execution": {
     "iopub.execute_input": "2022-06-17T20:36:02.754357Z",
     "iopub.status.busy": "2022-06-17T20:36:02.753656Z",
     "iopub.status.idle": "2022-06-17T20:36:03.089382Z",
     "shell.execute_reply": "2022-06-17T20:36:03.088550Z"
    },
    "papermill": {
     "duration": 0.348193,
     "end_time": "2022-06-17T20:36:03.091395",
     "exception": false,
     "start_time": "2022-06-17T20:36:02.743202",
     "status": "completed"
    },
    "tags": []
   },
   "outputs": [
    {
     "data": {
      "image/png": "[encoded data removed]",
      "text/plain": [
       "<Figure size 1008x720 with 1 Axes>"
      ]
     },
     "metadata": {
      "needs_background": "light"
     },
     "output_type": "display_data"
    }
   ],
   "source": [
    "# Visualizing the clusters\n",
    "\n",
    "import matplotlib.pyplot as plt\n",
    "plt.figure(figsize = (14,10))\n",
    "plt.scatter(df['PURCHASES'], df['PAYMENTS'], c = labels, s = 8, cmap = 'rainbow')\n",
    "plt.xlabel(\"Payments\")\n",
    "plt.ylabel(\"Purchases\")\n",
    "plt.show()\n"
   ]
  },
  {
   "cell_type": "code",
   "execution_count": 20,
   "id": "5cf94478",
   "metadata": {
    "execution": {
     "iopub.execute_input": "2022-06-17T20:36:03.110016Z",
     "iopub.status.busy": "2022-06-17T20:36:03.109471Z",
     "iopub.status.idle": "2022-06-17T20:36:03.116172Z",
     "shell.execute_reply": "2022-06-17T20:36:03.115229Z"
    },
    "papermill": {
     "duration": 0.017983,
     "end_time": "2022-06-17T20:36:03.117890",
     "exception": false,
     "start_time": "2022-06-17T20:36:03.099907",
     "status": "completed"
    },
    "tags": []
   },
   "outputs": [],
   "source": [
    "df['cluster'] = labels"
   ]
  },
  {
   "cell_type": "code",
   "execution_count": 21,
   "id": "97b3e90b",
   "metadata": {
    "execution": {
     "iopub.execute_input": "2022-06-17T20:36:03.135557Z",
     "iopub.status.busy": "2022-06-17T20:36:03.135127Z",
     "iopub.status.idle": "2022-06-17T20:36:03.352061Z",
     "shell.execute_reply": "2022-06-17T20:36:03.351243Z"
    },
    "papermill": {
     "duration": 0.227997,
     "end_time": "2022-06-17T20:36:03.353945",
     "exception": false,
     "start_time": "2022-06-17T20:36:03.125948",
     "status": "completed"
    },
    "tags": []
   },
   "outputs": [
    {
     "data": {
      "text/html": [
       "<div>\n",
       "<style scoped>\n",
       "    .dataframe tbody tr th:only-of-type {\n",
       "        vertical-align: middle;\n",
       "    }\n",
       "\n",
       "    .dataframe tbody tr th {\n",
       "        vertical-align: top;\n",
       "    }\n",
       "\n",
       "    .dataframe thead tr th {\n",
       "        text-align: left;\n",
       "    }\n",
       "\n",
       "    .dataframe thead tr:last-of-type th {\n",
       "        text-align: right;\n",
       "    }\n",
       "</style>\n",
       "<table border=\"1\" class=\"dataframe\">\n",
       "  <thead>\n",
       "    <tr>\n",
       "      <th></th>\n",
       "      <th colspan=\"8\" halign=\"left\">BALANCE</th>\n",
       "      <th colspan=\"2\" halign=\"left\">BALANCE_FREQUENCY</th>\n",
       "      <th>...</th>\n",
       "      <th colspan=\"2\" halign=\"left\">MINIMUM_PAYMENTS</th>\n",
       "      <th colspan=\"8\" halign=\"left\">PRC_FULL_PAYMENT</th>\n",
       "    </tr>\n",
       "    <tr>\n",
       "      <th></th>\n",
       "      <th>count</th>\n",
       "      <th>mean</th>\n",
       "      <th>std</th>\n",
       "      <th>min</th>\n",
       "      <th>25%</th>\n",
       "      <th>50%</th>\n",
       "      <th>75%</th>\n",
       "      <th>max</th>\n",
       "      <th>count</th>\n",
       "      <th>mean</th>\n",
       "      <th>...</th>\n",
       "      <th>75%</th>\n",
       "      <th>max</th>\n",
       "      <th>count</th>\n",
       "      <th>mean</th>\n",
       "      <th>std</th>\n",
       "      <th>min</th>\n",
       "      <th>25%</th>\n",
       "      <th>50%</th>\n",
       "      <th>75%</th>\n",
       "      <th>max</th>\n",
       "    </tr>\n",
       "    <tr>\n",
       "      <th>cluster</th>\n",
       "      <th></th>\n",
       "      <th></th>\n",
       "      <th></th>\n",
       "      <th></th>\n",
       "      <th></th>\n",
       "      <th></th>\n",
       "      <th></th>\n",
       "      <th></th>\n",
       "      <th></th>\n",
       "      <th></th>\n",
       "      <th></th>\n",
       "      <th></th>\n",
       "      <th></th>\n",
       "      <th></th>\n",
       "      <th></th>\n",
       "      <th></th>\n",
       "      <th></th>\n",
       "      <th></th>\n",
       "      <th></th>\n",
       "      <th></th>\n",
       "      <th></th>\n",
       "    </tr>\n",
       "  </thead>\n",
       "  <tbody>\n",
       "    <tr>\n",
       "      <th>0</th>\n",
       "      <td>3253.0</td>\n",
       "      <td>445.882560</td>\n",
       "      <td>847.271395</td>\n",
       "      <td>0.000000</td>\n",
       "      <td>24.099873</td>\n",
       "      <td>84.067421</td>\n",
       "      <td>417.878821</td>\n",
       "      <td>9630.367575</td>\n",
       "      <td>3253.0</td>\n",
       "      <td>0.778667</td>\n",
       "      <td>...</td>\n",
       "      <td>243.235999</td>\n",
       "      <td>4483.503862</td>\n",
       "      <td>3253.0</td>\n",
       "      <td>0.248885</td>\n",
       "      <td>0.347434</td>\n",
       "      <td>0.0</td>\n",
       "      <td>0.0</td>\n",
       "      <td>0.000000</td>\n",
       "      <td>0.454545</td>\n",
       "      <td>1.0</td>\n",
       "    </tr>\n",
       "    <tr>\n",
       "      <th>1</th>\n",
       "      <td>1071.0</td>\n",
       "      <td>1800.717763</td>\n",
       "      <td>1985.639837</td>\n",
       "      <td>0.000000</td>\n",
       "      <td>507.620537</td>\n",
       "      <td>1095.984736</td>\n",
       "      <td>2321.124348</td>\n",
       "      <td>14581.459140</td>\n",
       "      <td>1071.0</td>\n",
       "      <td>0.862918</td>\n",
       "      <td>...</td>\n",
       "      <td>891.640865</td>\n",
       "      <td>21235.065300</td>\n",
       "      <td>1071.0</td>\n",
       "      <td>0.117296</td>\n",
       "      <td>0.186974</td>\n",
       "      <td>0.0</td>\n",
       "      <td>0.0</td>\n",
       "      <td>0.083333</td>\n",
       "      <td>0.142857</td>\n",
       "      <td>1.0</td>\n",
       "    </tr>\n",
       "    <tr>\n",
       "      <th>2</th>\n",
       "      <td>434.0</td>\n",
       "      <td>1836.656555</td>\n",
       "      <td>1828.238398</td>\n",
       "      <td>0.000000</td>\n",
       "      <td>951.552333</td>\n",
       "      <td>1271.041168</td>\n",
       "      <td>2000.252015</td>\n",
       "      <td>11670.179850</td>\n",
       "      <td>434.0</td>\n",
       "      <td>0.943164</td>\n",
       "      <td>...</td>\n",
       "      <td>6418.068279</td>\n",
       "      <td>76406.207520</td>\n",
       "      <td>434.0</td>\n",
       "      <td>0.018295</td>\n",
       "      <td>0.088560</td>\n",
       "      <td>0.0</td>\n",
       "      <td>0.0</td>\n",
       "      <td>0.000000</td>\n",
       "      <td>0.000000</td>\n",
       "      <td>1.0</td>\n",
       "    </tr>\n",
       "    <tr>\n",
       "      <th>3</th>\n",
       "      <td>2657.0</td>\n",
       "      <td>3034.461264</td>\n",
       "      <td>2480.968273</td>\n",
       "      <td>6.824905</td>\n",
       "      <td>1254.480637</td>\n",
       "      <td>2170.916313</td>\n",
       "      <td>4223.832142</td>\n",
       "      <td>18495.558550</td>\n",
       "      <td>2657.0</td>\n",
       "      <td>0.962479</td>\n",
       "      <td>...</td>\n",
       "      <td>1330.173932</td>\n",
       "      <td>8345.641905</td>\n",
       "      <td>2657.0</td>\n",
       "      <td>0.001794</td>\n",
       "      <td>0.023225</td>\n",
       "      <td>0.0</td>\n",
       "      <td>0.0</td>\n",
       "      <td>0.000000</td>\n",
       "      <td>0.000000</td>\n",
       "      <td>0.6</td>\n",
       "    </tr>\n",
       "    <tr>\n",
       "      <th>4</th>\n",
       "      <td>1535.0</td>\n",
       "      <td>1148.763839</td>\n",
       "      <td>1665.728668</td>\n",
       "      <td>0.000000</td>\n",
       "      <td>214.323634</td>\n",
       "      <td>559.750373</td>\n",
       "      <td>1383.705567</td>\n",
       "      <td>19043.138560</td>\n",
       "      <td>1535.0</td>\n",
       "      <td>0.930128</td>\n",
       "      <td>...</td>\n",
       "      <td>538.211814</td>\n",
       "      <td>18621.013310</td>\n",
       "      <td>1535.0</td>\n",
       "      <td>0.278693</td>\n",
       "      <td>0.367086</td>\n",
       "      <td>0.0</td>\n",
       "      <td>0.0</td>\n",
       "      <td>0.083333</td>\n",
       "      <td>0.545455</td>\n",
       "      <td>1.0</td>\n",
       "    </tr>\n",
       "  </tbody>\n",
       "</table>\n",
       "<p>5 rows × 128 columns</p>\n",
       "</div>"
      ],
      "text/plain": [
       "        BALANCE                                                                \\\n",
       "          count         mean          std       min          25%          50%   \n",
       "cluster                                                                         \n",
       "0        3253.0   445.882560   847.271395  0.000000    24.099873    84.067421   \n",
       "1        1071.0  1800.717763  1985.639837  0.000000   507.620537  1095.984736   \n",
       "2         434.0  1836.656555  1828.238398  0.000000   951.552333  1271.041168   \n",
       "3        2657.0  3034.461264  2480.968273  6.824905  1254.480637  2170.916313   \n",
       "4        1535.0  1148.763839  1665.728668  0.000000   214.323634   559.750373   \n",
       "\n",
       "                                   BALANCE_FREQUENCY            ...  \\\n",
       "                 75%           max             count      mean  ...   \n",
       "cluster                                                         ...   \n",
       "0         417.878821   9630.367575            3253.0  0.778667  ...   \n",
       "1        2321.124348  14581.459140            1071.0  0.862918  ...   \n",
       "2        2000.252015  11670.179850             434.0  0.943164  ...   \n",
       "3        4223.832142  18495.558550            2657.0  0.962479  ...   \n",
       "4        1383.705567  19043.138560            1535.0  0.930128  ...   \n",
       "\n",
       "        MINIMUM_PAYMENTS               PRC_FULL_PAYMENT                      \\\n",
       "                     75%           max            count      mean       std   \n",
       "cluster                                                                       \n",
       "0             243.235999   4483.503862           3253.0  0.248885  0.347434   \n",
       "1             891.640865  21235.065300           1071.0  0.117296  0.186974   \n",
       "2            6418.068279  76406.207520            434.0  0.018295  0.088560   \n",
       "3            1330.173932   8345.641905           2657.0  0.001794  0.023225   \n",
       "4             538.211814  18621.013310           1535.0  0.278693  0.367086   \n",
       "\n",
       "                                            \n",
       "         min  25%       50%       75%  max  \n",
       "cluster                                     \n",
       "0        0.0  0.0  0.000000  0.454545  1.0  \n",
       "1        0.0  0.0  0.083333  0.142857  1.0  \n",
       "2        0.0  0.0  0.000000  0.000000  1.0  \n",
       "3        0.0  0.0  0.000000  0.000000  0.6  \n",
       "4        0.0  0.0  0.083333  0.545455  1.0  \n",
       "\n",
       "[5 rows x 128 columns]"
      ]
     },
     "execution_count": 21,
     "metadata": {},
     "output_type": "execute_result"
    }
   ],
   "source": [
    "df.groupby('cluster').describe() \n"
   ]
  },
  {
   "cell_type": "code",
   "execution_count": 22,
   "id": "cfaf140f",
   "metadata": {
    "execution": {
     "iopub.execute_input": "2022-06-17T20:36:03.381522Z",
     "iopub.status.busy": "2022-06-17T20:36:03.380661Z",
     "iopub.status.idle": "2022-06-17T20:36:03.388085Z",
     "shell.execute_reply": "2022-06-17T20:36:03.386953Z"
    },
    "papermill": {
     "duration": 0.023162,
     "end_time": "2022-06-17T20:36:03.389936",
     "exception": false,
     "start_time": "2022-06-17T20:36:03.366774",
     "status": "completed"
    },
    "tags": []
   },
   "outputs": [
    {
     "data": {
      "text/plain": [
       "array([[6.92506510e-02, 2.30638870e-04, 1.21427684e-01, 4.79744862e-02,\n",
       "        7.35542588e-02, 2.31501675e-02, 1.71787443e-04, 3.36100283e-05,\n",
       "        1.39329589e-04, 7.54758670e-06, 1.18111389e-04, 2.85576762e-03,\n",
       "        9.41926341e-01, 1.54620743e-01, 6.46945368e-02, 7.67914242e-05],\n",
       "       [2.35922603e-01, 2.16616069e-04, 6.00582498e-02, 3.39853470e-02,\n",
       "        2.60781223e-02, 4.00764800e-01, 5.26904455e-05, 2.04101094e-05,\n",
       "        3.53115349e-05, 6.55494028e-05, 1.57406410e-03, 1.12114251e-03,\n",
       "        5.34849053e-01, 5.97441862e-01, 1.05216554e-01, 2.77383565e-05],\n",
       "       [3.11455558e-01, 2.66356425e-04, 1.55998832e-01, 3.50086956e-02,\n",
       "        1.21352751e-01, 5.78241060e-02, 1.73556210e-04, 2.57488699e-05,\n",
       "        1.54560009e-04, 2.05256708e-05, 4.30533663e-04, 3.86704024e-03,\n",
       "        3.92878831e-01, 2.42171682e-01, 6.80873587e-01, 3.99682246e-06],\n",
       "       [5.03113470e-01, 2.70803777e-04, 6.18905156e-02, 3.63484711e-02,\n",
       "        2.55637004e-02, 2.52480356e-01, 6.72201642e-05, 2.57620306e-05,\n",
       "        4.48162714e-05, 5.71314183e-05, 1.15226633e-03, 1.32668876e-03,\n",
       "        7.18728759e-01, 1.66076554e-01, 1.83257472e-01, 5.50847935e-07],\n",
       "       [1.60490520e-01, 2.45305052e-04, 4.38524329e-01, 2.57757746e-01,\n",
       "        1.80938653e-01, 2.60998962e-02, 2.03103980e-04, 8.92313276e-05,\n",
       "        1.49267697e-04, 9.42430841e-06, 1.70858862e-04, 6.16727429e-03,\n",
       "        6.03083138e-01, 4.02913479e-01, 8.61663668e-02, 7.20988125e-05]])"
      ]
     },
     "execution_count": 22,
     "metadata": {},
     "output_type": "execute_result"
    }
   ],
   "source": [
    "# Clusters centroids\n",
    "\n",
    "centroids = kmeans.cluster_centers_\n",
    "centroids"
   ]
  },
  {
   "cell_type": "code",
   "execution_count": 23,
   "id": "8afb2a57",
   "metadata": {
    "execution": {
     "iopub.execute_input": "2022-06-17T20:36:03.407769Z",
     "iopub.status.busy": "2022-06-17T20:36:03.407399Z",
     "iopub.status.idle": "2022-06-17T20:36:03.414084Z",
     "shell.execute_reply": "2022-06-17T20:36:03.413238Z"
    },
    "papermill": {
     "duration": 0.018401,
     "end_time": "2022-06-17T20:36:03.416590",
     "exception": false,
     "start_time": "2022-06-17T20:36:03.398189",
     "status": "completed"
    },
    "tags": []
   },
   "outputs": [
    {
     "name": "stdout",
     "output_type": "stream",
     "text": [
      "BALANCE \n",
      "0.0217\n",
      "BALANCE_FREQUENCY \n",
      "0.0000\n",
      "PURCHASES \n",
      "0.0197\n",
      "ONEOFF_PURCHASES \n",
      "0.0077\n",
      "INSTALLMENTS_PURCHASES \n",
      "0.0035\n",
      "CASH_ADVANCE \n",
      "0.0227\n",
      "PURCHASES_FREQUENCY \n",
      "0.0000\n",
      "ONEOFF_PURCHASES_FREQUENCY \n",
      "0.0000\n",
      "PURCHASES_INSTALLMENTS_FREQUENCY \n",
      "0.0000\n",
      "CASH_ADVANCE_FREQUENCY \n",
      "0.0000\n",
      "CASH_ADVANCE_TRX \n",
      "0.0000\n",
      "PURCHASES_TRX \n",
      "0.0000\n",
      "CREDIT_LIMIT \n",
      "0.0342\n",
      "PAYMENTS \n",
      "0.0281\n",
      "MINIMUM_PAYMENTS \n",
      "0.0538\n",
      "PRC_FULL_PAYMENT \n",
      "0.0000\n"
     ]
    }
   ],
   "source": [
    "# Features selections\n",
    "\n",
    "max = len(centroids[0])\n",
    "for i in range(max):\n",
    "    print(df.columns.values[i], \"\\n{:.4f}\".format(centroids[:, i].var()))"
   ]
  },
  {
   "cell_type": "markdown",
   "id": "02c5cfe3",
   "metadata": {
    "execution": {
     "iopub.execute_input": "2022-06-17T19:30:04.669355Z",
     "iopub.status.busy": "2022-06-17T19:30:04.668936Z",
     "iopub.status.idle": "2022-06-17T19:30:04.674587Z",
     "shell.execute_reply": "2022-06-17T19:30:04.673471Z",
     "shell.execute_reply.started": "2022-06-17T19:30:04.669319Z"
    },
    "papermill": {
     "duration": 0.012607,
     "end_time": "2022-06-17T20:36:03.443250",
     "exception": false,
     "start_time": "2022-06-17T20:36:03.430643",
     "status": "completed"
    },
    "tags": []
   },
   "source": [
    "* BALANCE 0.0217\n",
    "* PURCHASES 0.0197\n",
    "* CASH_ADVANCE 0.0226\n",
    "* CREDIT_LIMIT 0.0343\n",
    "* PAYMENTS 0.0281\n",
    "* MINIMUM_PAYMENTS 0.0542"
   ]
  },
  {
   "cell_type": "code",
   "execution_count": 24,
   "id": "80a0b543",
   "metadata": {
    "execution": {
     "iopub.execute_input": "2022-06-17T20:36:03.470562Z",
     "iopub.status.busy": "2022-06-17T20:36:03.470209Z",
     "iopub.status.idle": "2022-06-17T20:36:03.493079Z",
     "shell.execute_reply": "2022-06-17T20:36:03.492359Z"
    },
    "papermill": {
     "duration": 0.03982,
     "end_time": "2022-06-17T20:36:03.496188",
     "exception": false,
     "start_time": "2022-06-17T20:36:03.456368",
     "status": "completed"
    },
    "tags": []
   },
   "outputs": [
    {
     "name": "stderr",
     "output_type": "stream",
     "text": [
      "/opt/conda/lib/python3.7/site-packages/ipykernel_launcher.py:3: FutureWarning: Indexing with multiple keys (implicitly converted to a tuple of keys) will be deprecated, use a list instead.\n",
      "  This is separate from the ipykernel package so we can avoid doing imports until\n"
     ]
    },
    {
     "data": {
      "text/html": [
       "<div>\n",
       "<style scoped>\n",
       "    .dataframe tbody tr th:only-of-type {\n",
       "        vertical-align: middle;\n",
       "    }\n",
       "\n",
       "    .dataframe tbody tr th {\n",
       "        vertical-align: top;\n",
       "    }\n",
       "\n",
       "    .dataframe thead th {\n",
       "        text-align: right;\n",
       "    }\n",
       "</style>\n",
       "<table border=\"1\" class=\"dataframe\">\n",
       "  <thead>\n",
       "    <tr style=\"text-align: right;\">\n",
       "      <th></th>\n",
       "      <th>BALANCE</th>\n",
       "      <th>PURCHASES</th>\n",
       "      <th>CASH_ADVANCE</th>\n",
       "      <th>CREDIT_LIMIT</th>\n",
       "      <th>PAYMENTS</th>\n",
       "      <th>MINIMUM_PAYMENTS</th>\n",
       "      <th>n_clients</th>\n",
       "    </tr>\n",
       "    <tr>\n",
       "      <th>cluster</th>\n",
       "      <th></th>\n",
       "      <th></th>\n",
       "      <th></th>\n",
       "      <th></th>\n",
       "      <th></th>\n",
       "      <th></th>\n",
       "      <th></th>\n",
       "    </tr>\n",
       "  </thead>\n",
       "  <tbody>\n",
       "    <tr>\n",
       "      <th>0</th>\n",
       "      <td>445.882560</td>\n",
       "      <td>633.236400</td>\n",
       "      <td>139.630571</td>\n",
       "      <td>5162.539569</td>\n",
       "      <td>821.288550</td>\n",
       "      <td>261.406155</td>\n",
       "      <td>3253</td>\n",
       "    </tr>\n",
       "    <tr>\n",
       "      <th>1</th>\n",
       "      <td>1800.717763</td>\n",
       "      <td>470.954463</td>\n",
       "      <td>3275.589124</td>\n",
       "      <td>3979.805053</td>\n",
       "      <td>4708.189800</td>\n",
       "      <td>743.391419</td>\n",
       "      <td>1071</td>\n",
       "    </tr>\n",
       "    <tr>\n",
       "      <th>2</th>\n",
       "      <td>1836.656555</td>\n",
       "      <td>803.421590</td>\n",
       "      <td>390.894174</td>\n",
       "      <td>2119.354839</td>\n",
       "      <td>1247.108721</td>\n",
       "      <td>5739.127796</td>\n",
       "      <td>434</td>\n",
       "    </tr>\n",
       "    <tr>\n",
       "      <th>3</th>\n",
       "      <td>3034.461264</td>\n",
       "      <td>387.283406</td>\n",
       "      <td>1634.451196</td>\n",
       "      <td>4494.279262</td>\n",
       "      <td>967.826994</td>\n",
       "      <td>1037.019228</td>\n",
       "      <td>2657</td>\n",
       "    </tr>\n",
       "    <tr>\n",
       "      <th>4</th>\n",
       "      <td>1148.763839</td>\n",
       "      <td>3281.222176</td>\n",
       "      <td>186.408703</td>\n",
       "      <td>4109.518014</td>\n",
       "      <td>3051.956376</td>\n",
       "      <td>548.521543</td>\n",
       "      <td>1535</td>\n",
       "    </tr>\n",
       "  </tbody>\n",
       "</table>\n",
       "</div>"
      ],
      "text/plain": [
       "             BALANCE    PURCHASES  CASH_ADVANCE  CREDIT_LIMIT     PAYMENTS  \\\n",
       "cluster                                                                      \n",
       "0         445.882560   633.236400    139.630571   5162.539569   821.288550   \n",
       "1        1800.717763   470.954463   3275.589124   3979.805053  4708.189800   \n",
       "2        1836.656555   803.421590    390.894174   2119.354839  1247.108721   \n",
       "3        3034.461264   387.283406   1634.451196   4494.279262   967.826994   \n",
       "4        1148.763839  3281.222176    186.408703   4109.518014  3051.956376   \n",
       "\n",
       "         MINIMUM_PAYMENTS  n_clients  \n",
       "cluster                               \n",
       "0              261.406155       3253  \n",
       "1              743.391419       1071  \n",
       "2             5739.127796        434  \n",
       "3             1037.019228       2657  \n",
       "4              548.521543       1535  "
      ]
     },
     "execution_count": 24,
     "metadata": {},
     "output_type": "execute_result"
    }
   ],
   "source": [
    "# Filtering the selected features\n",
    "\n",
    "description = df.groupby(\"cluster\")[\"BALANCE\", \"PURCHASES\", \n",
    "                      \"CASH_ADVANCE\",\"CREDIT_LIMIT\",\n",
    "                      \"PAYMENTS\", \"MINIMUM_PAYMENTS\"]\n",
    "\n",
    "n_clients = description.size()\n",
    "\n",
    "description = description.mean()\n",
    "\n",
    "description[\"n_clients\"] = n_clients\n",
    "\n",
    "description"
   ]
  },
  {
   "cell_type": "markdown",
   "id": "55294736",
   "metadata": {
    "papermill": {
     "duration": 0.012996,
     "end_time": "2022-06-17T20:36:03.523029",
     "exception": false,
     "start_time": "2022-06-17T20:36:03.510033",
     "status": "completed"
    },
    "tags": []
   },
   "source": [
    "### Clusters Analysis\n",
    "\n",
    "* CLUSTER 0: Lowest expenses. Lowest values of cash advance. Good payers.\n",
    "* CLUSTER 1: Highest expenses. Lowest values of purchases.  Worse payers. **Focus is cash advance.**\n",
    "* CLUSTER 2: Highest purchases. **Spends more with purchases.**Best payers.\n",
    "* CLUSTER 3: **Highest amount in cash advance.**\n",
    "* CLUSTER 4: Lowest credit limit. Bad payers."
   ]
  }
 ],
 "metadata": {
  "kernelspec": {
   "display_name": "Python 3",
   "language": "python",
   "name": "python3"
  },
  "language_info": {
   "codemirror_mode": {
    "name": "ipython",
    "version": 3
   },
   "file_extension": ".py",
   "mimetype": "text/x-python",
   "name": "python",
   "nbconvert_exporter": "python",
   "pygments_lexer": "ipython3",
   "version": "3.7.12"
  },
  "papermill": {
   "default_parameters": {},
   "duration": 48.55543,
   "end_time": "2022-06-17T20:36:04.557877",
   "environment_variables": {},
   "exception": null,
   "input_path": "__notebook__.ipynb",
   "output_path": "__notebook__.ipynb",
   "parameters": {},
   "start_time": "2022-06-17T20:35:16.002447",
   "version": "2.3.4"
  }
 },
 "nbformat": 4,
 "nbformat_minor": 5
}
